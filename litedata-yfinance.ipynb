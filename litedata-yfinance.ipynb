{
 "cells": [
  {
   "cell_type": "markdown",
   "metadata": {},
   "source": [
    "## Necessary Modules"
   ]
  },
  {
   "cell_type": "code",
   "execution_count": 3,
   "metadata": {},
   "outputs": [],
   "source": [
    "import os\n",
    "from glob import glob\n",
    "import sys\n",
    "sys.path.append('..')\n",
    "\n",
    "from datetime import datetime, timedelta\n",
    "from itertools import product\n",
    "\n",
    "import pandas as pd\n",
    "import numpy as np\n",
    "\n",
    "from sqlalchemy import create_engine, MetaData\n",
    "from sqlalchemy import Table, Column\n",
    "from sqlalchemy import Integer, String, Time, DateTime, Numeric, BigInteger\n",
    "from sqlalchemy import select, insert, update, delete\n",
    "\n",
    "import yfinance as yf\n",
    "from litedb import Litedata\n",
    "Yahoodata = Litedata('yahoo')"
   ]
  },
  {
   "cell_type": "code",
   "execution_count": null,
   "metadata": {},
   "outputs": [],
   "source": []
  },
  {
   "cell_type": "markdown",
   "metadata": {},
   "source": [
    "## Testing on sectypes"
   ]
  },
  {
   "cell_type": "markdown",
   "metadata": {},
   "source": [
    "### Reading symbollist CSVs"
   ]
  },
  {
   "cell_type": "code",
   "execution_count": 4,
   "metadata": {},
   "outputs": [],
   "source": [
    "symbolcsvlist = glob(os.path.join(Yahoodata.data_path, 'lite_*.csv'))\n",
    "\n",
    "for csvfile in symbolcsvlist:\n",
    "    dflist_sectype = pd.read_csv(csvfile, index_col='symbol', header=0)\n",
    "    dflist_sectype = dflist_sectype.sort_values(['sector', 'symbol'])\n",
    "    dflist_sectype.to_csv(csvfile)"
   ]
  },
  {
   "cell_type": "markdown",
   "metadata": {},
   "source": [
    "### Remove disconnected & obsolete tables"
   ]
  },
  {
   "cell_type": "code",
   "execution_count": null,
   "metadata": {},
   "outputs": [],
   "source": [
    "#tablelist = Yahoodata.engine.table_names()\n",
    "#droplist = [name for name in tablelist if name[:6] == 'midcap']\n",
    "#print(droplist)\n",
    "\n",
    "#with Yahoodata.engine.connect() as con:\n",
    "#    for name in droplist:\n",
    "#        stmt = f'DROP TABLE {name}'\n",
    "#        con.execute(stmt)"
   ]
  },
  {
   "cell_type": "markdown",
   "metadata": {},
   "source": [
    "### Remove symbol"
   ]
  },
  {
   "cell_type": "code",
   "execution_count": 5,
   "metadata": {},
   "outputs": [],
   "source": [
    "#removelist = ['1589.HK', 'CERN', 'PBCT']\n",
    "\n",
    "#for symbol in removelist:\n",
    "#    Yahoodata.remove_symbol(symbol)"
   ]
  },
  {
   "cell_type": "code",
   "execution_count": null,
   "metadata": {},
   "outputs": [],
   "source": []
  },
  {
   "cell_type": "code",
   "execution_count": null,
   "metadata": {},
   "outputs": [],
   "source": []
  },
  {
   "cell_type": "markdown",
   "metadata": {},
   "source": [
    "### Inserting all symbols from a security type"
   ]
  },
  {
   "cell_type": "code",
   "execution_count": null,
   "metadata": {},
   "outputs": [],
   "source": [
    "#sectypelist_new = ['hkstock']\n",
    "#metadict = {sectype: Yahoodata.get_symboldict_csv(sectype) for sectype in sectypelist_new}\n",
    "#for sectype in sectypelist_new:\n",
    "#    metadict[sectype] = Yahoodata.get_symboldict_csv(sectype)\n",
    "#    Yahoodata.insert_from_symboldict(metadict[sectype])"
   ]
  },
  {
   "cell_type": "code",
   "execution_count": null,
   "metadata": {},
   "outputs": [],
   "source": [
    "#with Yahoodata.engine.connect() as con:\n",
    "#    meta = MetaData()\n",
    "#    insertlist = [{'vendor': 'yahoo', 'date': datetime(2020, 3, 23, 16, 0, 0),\n",
    "#                    'op': 21659.55, 'hi': 22062.19, 'lo': 21659.55, 'cl': 21696.13, 'vol': 3478982700,\n",
    "#                    'adj_op': 21659.55, 'adj_hi': 22062.19, 'adj_lo': 21659.55, 'adj_cl': 21696.13, 'adj_vol': 3478982700,\n",
    "#                    'div': 0, 'split': 0, 'update': datetime.now()}] \n",
    "#    table_ohlc = Table('Indices_^HSI', meta, autoload=True, autoload_with=Yahoodata.engine)\n",
    "#    insertquery = insert(table_ohlc)\n",
    "#    con.execute(insertquery, insertlist)"
   ]
  },
  {
   "cell_type": "markdown",
   "metadata": {},
   "source": [
    "### Parsing HK new symbols"
   ]
  },
  {
   "cell_type": "code",
   "execution_count": null,
   "metadata": {},
   "outputs": [],
   "source": [
    "newfile = os.path.join(Yahoodata.data_path, 'hsci-change.xlsx')\n",
    "newxl = pd.ExcelFile(newfile)\n",
    "\n",
    "dfchg = pd.DataFrame()\n",
    "newdate = datetime(2020, 7, 27)\n",
    "\n",
    "for name in newxl.sheet_names[:-1]:\n",
    "    dfsector = newxl.parse(name)\n",
    "    dfsector['Date'] = pd.to_datetime(dfsector['Date'])\n",
    "    dfsecnew = dfsector[dfsector['Date'] >= newdate]\n",
    "    dfsecnew.rename(columns={'Symbol': 'symbol'}, inplace=True)\n",
    "    dfchg = pd.concat([dfchg, dfsecnew], axis=0)\n",
    "    \n",
    "dfchg.sort_values(['Date', 'act', 'sector', 'symbol'], ascending=(False, True, True, True), inplace=True)\n",
    "print(dfchg.info())\n",
    "\n",
    "dfadd = dfchg[dfchg['act'] == 'add']\n",
    "dfdel = dfchg[dfchg['act'] == 'delete']\n",
    "print(dfadd.info())\n",
    "print(dfadd['symbol'].nunique())\n",
    "print(dfdel.info())\n",
    "print(dfdel['symbol'].nunique())\n",
    "\n",
    "dfadd.set_index('symbol', inplace=True)\n",
    "dfadd.sort_index(inplace=True)\n",
    "dfdel.set_index('symbol', inplace=True)\n",
    "dfdel.sort_index(inplace=True)"
   ]
  },
  {
   "cell_type": "code",
   "execution_count": null,
   "metadata": {},
   "outputs": [],
   "source": [
    "dfnew = dfadd.copy()\n",
    "dfnew['ex_code'] = 'HKSE'\n",
    "dfnew['sectype'] = 'hkstock'\n",
    "dfnew['currency'] = 'HKD'\n",
    "dfnew['industry'] = 'none'\n",
    "dfnew['startdate'] = '2022-06-10'\n",
    "dfnew['enddate'] = '2022-06-17'\n",
    "dfnew.drop(['Date', 'act'], axis=1, inplace=True)\n",
    "dfnew = dfnew[['ex_code', 'sectype', 'currency', 'name', 'sector', 'industry', 'startdate', 'enddate']]"
   ]
  },
  {
   "cell_type": "code",
   "execution_count": null,
   "metadata": {},
   "outputs": [],
   "source": [
    "#hkfile = os.path.join(Yahoodata.data_path, 'lite_hkstock.csv')\n",
    "#dfhk = pd.read_csv(hkfile, header=0, index_col='symbol')\n",
    "\n",
    "#for code in dfnew.index:\n",
    "#    if code in dfhk.index:\n",
    "#        dfnew.drop(code, axis=0, inplace=True)\n",
    "        \n",
    "#dfhk = pd.concat([dfhk, dfnew], axis=0)\n",
    "#dfhk.to_csv(hkfile)"
   ]
  },
  {
   "cell_type": "code",
   "execution_count": null,
   "metadata": {},
   "outputs": [],
   "source": []
  },
  {
   "cell_type": "code",
   "execution_count": null,
   "metadata": {},
   "outputs": [],
   "source": []
  }
 ],
 "metadata": {
  "kernelspec": {
   "display_name": "Python 3",
   "language": "python",
   "name": "python3"
  },
  "language_info": {
   "codemirror_mode": {
    "name": "ipython",
    "version": 3
   },
   "file_extension": ".py",
   "mimetype": "text/x-python",
   "name": "python",
   "nbconvert_exporter": "python",
   "pygments_lexer": "ipython3",
   "version": "3.8.5"
  }
 },
 "nbformat": 4,
 "nbformat_minor": 2
}
