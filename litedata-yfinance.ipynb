{
 "cells": [
  {
   "cell_type": "markdown",
   "metadata": {},
   "source": [
    "## Necessary Modules"
   ]
  },
  {
   "cell_type": "code",
   "execution_count": 3,
   "metadata": {},
   "outputs": [],
   "source": [
    "import pandas as pd\n",
    "import numpy as np\n",
    "from datetime import datetime, timedelta\n",
    "from itertools import product\n",
    "\n",
    "import os\n",
    "from glob import glob\n",
    "import sys\n",
    "sys.path.append('..')\n",
    "\n",
    "from sqlalchemy import create_engine, MetaData\n",
    "from sqlalchemy import Table, Column\n",
    "from sqlalchemy import Integer, String, Time, DateTime, Numeric, BigInteger\n",
    "from sqlalchemy import select, insert, update, delete\n",
    "\n",
    "import yfinance as yf\n",
    "from litedata import Litedata\n",
    "Yahoodata = Litedata('yahoo')\n",
    "\n",
    "from updatesectype_flow import update_sectypedata"
   ]
  },
  {
   "cell_type": "markdown",
   "metadata": {},
   "source": [
    "## Testing on sectypes"
   ]
  },
  {
   "cell_type": "markdown",
   "metadata": {},
   "source": [
    "### Reading symbollist CSVs"
   ]
  },
  {
   "cell_type": "code",
   "execution_count": null,
   "metadata": {},
   "outputs": [],
   "source": [
    "#symbolcsvlist = glob(os.path.join(Yahoodata.data_path, 'lite_*.csv'))\n",
    "\n",
    "#for csvfile in symbolcsvlist:\n",
    "#    dflist_sectype = pd.read_csv(csvfile, index_col='symbol', header=0)\n",
    "#    dflist_sectype = dflist_sectype.sort_values(['sector', 'symbol'])\n",
    "#    dflist_sectype.to_csv(csvfile)"
   ]
  },
  {
   "cell_type": "code",
   "execution_count": null,
   "metadata": {},
   "outputs": [],
   "source": []
  },
  {
   "cell_type": "markdown",
   "metadata": {},
   "source": [
    "### Remove symbol"
   ]
  },
  {
   "cell_type": "code",
   "execution_count": 2,
   "metadata": {},
   "outputs": [],
   "source": [
    "#removelist = [symbol for symbol, spec in Yahoodata.symboldict.items() if spec[1] == 'elseetf']\n",
    "removelist = ['DDM', 'DXD', 'QID', 'QLD', 'UWM', 'TWM', 'URTY', 'SRTY', 'SSO', 'SDS']\n",
    "for symbol in removelist:\n",
    "    Yahoodata.remove_symbol(symbol)"
   ]
  },
  {
   "cell_type": "markdown",
   "metadata": {},
   "source": [
    "### Inserting all symbols from a security type"
   ]
  },
  {
   "cell_type": "code",
   "execution_count": null,
   "metadata": {},
   "outputs": [],
   "source": [
    "#sectypelist_new = ['usstock']\n",
    "#metadict = {sectype: Yahoodata.get_symboldict_csv(sectype) for sectype in sectypelist_new}\n",
    "#for sectype in sectypelist_new:\n",
    "#    metadict[sectype] = Yahoodata.get_symboldict_csv(sectype)\n",
    "#    Yahoodata.insert_from_symboldict(metadict[sectype])"
   ]
  },
  {
   "cell_type": "code",
   "execution_count": null,
   "metadata": {},
   "outputs": [],
   "source": []
  },
  {
   "cell_type": "code",
   "execution_count": null,
   "metadata": {},
   "outputs": [],
   "source": []
  },
  {
   "cell_type": "code",
   "execution_count": null,
   "metadata": {},
   "outputs": [],
   "source": []
  },
  {
   "cell_type": "code",
   "execution_count": null,
   "metadata": {},
   "outputs": [],
   "source": [
    "#with Yahoodata.engine.connect() as con:\n",
    "#    stmt_update = f'UPDATE `Indices_^HSI` SET `date` = \"{datetime(2019, 12, 18, 16, 0, 0)}\" \\\n",
    "#                    WHERE `date` between \"{datetime(2019, 12, 18, 0, 0, 0)}\" and \"{datetime(2019, 12, 18, 1, 0, 0)}\"'\n",
    "#    con.execute(stmt_update)     "
   ]
  },
  {
   "cell_type": "code",
   "execution_count": null,
   "metadata": {},
   "outputs": [],
   "source": [
    "#with Yahoodata.engine.connect() as con:\n",
    "#    meta = MetaData()\n",
    "#    insertlist = [{'vendor': 'yahoo', 'date': datetime(2020, 3, 23, 16, 0, 0),\n",
    "#                    'op': 21659.55, 'hi': 22062.19, 'lo': 21659.55, 'cl': 21696.13, 'vol': 3478982700,\n",
    "#                    'adj_op': 21659.55, 'adj_hi': 22062.19, 'adj_lo': 21659.55, 'adj_cl': 21696.13, 'adj_vol': 3478982700,\n",
    "#                    'div': 0, 'split': 0, 'update': datetime.now()}] \n",
    "#    table_ohlc = Table('Indices_^HSI', meta, autoload=True, autoload_with=Yahoodata.engine)\n",
    "#    insertquery = insert(table_ohlc)\n",
    "#    con.execute(insertquery, insertlist)"
   ]
  },
  {
   "cell_type": "code",
   "execution_count": null,
   "metadata": {},
   "outputs": [],
   "source": [
    "#insertlist = [{'vendor': 'yahoo', 'date': datetime(2019, 12, 18),\n",
    "#                'op': 27946.74, 'hi': 27970.54, 'lo': 27777.47, 'cl': 27884.21, 'vol': 1842227300,\n",
    "#                'adj_op': 27946.74, 'adj_hi': 27970.54, 'adj_lo': 27777.47, 'adj_cl': 27884.21, 'adj_vol': 1842227300,\n",
    "#                'div': 0, 'split': 0, 'update': datetime.now()}] "
   ]
  }
 ],
 "metadata": {
  "kernelspec": {
   "display_name": "Python 3",
   "language": "python",
   "name": "python3"
  },
  "language_info": {
   "codemirror_mode": {
    "name": "ipython",
    "version": 3
   },
   "file_extension": ".py",
   "mimetype": "text/x-python",
   "name": "python",
   "nbconvert_exporter": "python",
   "pygments_lexer": "ipython3",
   "version": "3.8.5"
  }
 },
 "nbformat": 4,
 "nbformat_minor": 2
}
